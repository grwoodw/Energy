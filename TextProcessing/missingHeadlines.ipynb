{
 "cells": [
  {
   "cell_type": "code",
   "execution_count": 1,
   "id": "2151fbe0",
   "metadata": {},
   "outputs": [],
   "source": [
    "import random\n",
    "\n",
    "def read_random_lines(filename, lines_to_read=30):\n",
    "    with open(filename, 'r') as file:\n",
    "        lines = file.readlines()\n",
    "        random_lines = random.sample(lines, lines_to_read)\n",
    "        for line in random_lines:\n",
    "            print(line.strip())"
   ]
  },
  {
   "cell_type": "code",
   "execution_count": 2,
   "id": "6de11a38",
   "metadata": {},
   "outputs": [
    {
     "name": "stdout",
     "output_type": "stream",
     "text": [
      "UPDATE 1-Virgin Money creates rare female top team with new hire\n",
      "BRIEF-Copperstone Resources: Board Decides On Directed Cash Issue Of SEK 13.5 Million\n",
      "UPDATE 1-Bonobos founder Andy Dunn to leave Walmart\n",
      "UPDATE 1-Mexico's Feb same-store sales up 6.2 pct-ANTAD\n",
      "BRIEF-Axalta Coating says Charlie Shaver Has Resigned As Chairman\n",
      "BRIEF-ICF International Says John Wasson Has Been Elected As President And CEO, Effective Oct 1\n",
      "Hypermarket chain Sun Art's H1 same-store sales drop, turnover flat\n",
      "BRIEF-Home Retail says CFO to step down after Sainsbury deal completes\n",
      "BRIEF-TDM Berhad's Mohamat Bin Muda Re-Designated To Group Chief Executive‍​\n",
      "TABLE-Aeon Hokkaido <7512.T>-6mth parent results\n",
      "UPDATE 1-HelloFresh shares fall as it pushes back break-even point\n",
      "SHH Margin Trading -- Jinfeng Wine <600616.SS> Margin Long Amount is 453 (x10000) yuan, Short Selling Volume is 0.00 (x10000) shares\n",
      "BRIEF-Lushang Property's Board Elects Li Yanyong As Chairman, Dong Honglin As General Manager\n",
      "Germany's Ceconomy to become largest shareholder in Fnac Darty\n",
      "BUZZ-McColl's Retail: Set to open lower on profit warning\n",
      "BRIEF-TDM Bhd Says Haji Wan Nawawi Bin Haji Wan Ismail Resigned As Chairman\n",
      "EU RESEARCH SUMMARY: FTSEurofirst 300 May 6 0719 GMT\n",
      "BRIEF-India's Swiss Glascoat Says Bipin Thakkar Resigns As CFO\n",
      "BRIEF-Enlight appoints Wang,Chih-Yung as chairman\n",
      "BRIEF-Eskom Says Eskom Rotek CEO Johnny Dladla Resigns\n",
      "BRIEF-Estonian State Prosecutor Says More Arrests Likely In Danske Money Laundering Case\n",
      "EXPLAINER-London's new runway: progress at last but no take off yet\n",
      "SHH Margin Trading -- SH Friendship <600827.SS> Margin Long Amount is 7,164   (x10000) yuan, Short Selling Volume is 3 (x10000) shares\n",
      "TABLE-Maxvalu Tokai <8198.T>-2017/18 group results\n",
      "BRIEF-New Provenance Everlasting Holdings Says Hu Haifeng Resigned As Chairman And CEO\n",
      "U.S. judge denies effort to stop Mulvaney from heading consumer watchdog\n",
      "UPDATE 1-UK's Sainsbury's to close 12 convenience stores\n",
      "BRIEF-Aorere Resources Says Robin Widdup Resigns As Chairman\n",
      "BRIEF-WEB Appoints Mr. Claude Desseille As Chairman\n",
      "New Malta PM reshuffles ministers, shuns controversial names\n",
      "Starboard nominates candidates to Newell's board\n",
      "BRIEF-Avic International Holding Names Lai Weixuan As CEO\n",
      "RPT-Foreign ownership in India retail seen on gradual path\n",
      "Bank of Israel deputy governor to step down after 5-year term\n",
      "TABLE-Kobe Bussan <3038.T>-Q1 group results\n",
      "BRIEF-Shanghai Kaichuang Marine International's Chairman Resigns Due To Change In Job Role\n",
      "BRIEF-Walmart's Jet acquires ShoeBuy from IAC\n",
      "Unexpected monarch in bagging area? Queen Elizabeth pops down to Sainsbury's\n",
      "BRIEF-Future Retail Lists $500 Mln Notes Offer On Singapore Stock Exchange\n",
      "Moody's rates Ingles' proposed senior unsecured notes B1; outlook stable <IMKTA.O>\n",
      "India's Future Grp signs pact with Carrefour-paper\n",
      "BRIEF-Beijing Hualian Hypermarket issues notes worth 700 mln yuan\n",
      "UPDATE 1-Alibaba spending $1 bln to raise stake in Southeast Asia's Lazada\n",
      "BRIEF-China Investment Development Appoints Lin Yudan As Chief Executive Officer\n",
      "BRIEF-Group Five Appoints Anthony Clacher as CFO\n",
      "UPDATE 1-Lockheed Martin's Marillyn Hewson to step down as CEO\n",
      "BRIEF-Howard Coker To Succeed Rob Tiede As Sonoco's CEO\n",
      "BRIEF-Macy's Names Patti Ongman Chief Merchandising Officer\n",
      "MEDIA-India's PremjiInvest in talks to invest $250 mln in holding company of Future Group - Times of India\n",
      "BRIEF-Retail Food Group Promotes Richard Hinson To Group CEO\n"
     ]
    }
   ],
   "source": [
    "read_random_lines('missingHeadlines.txt', 50)"
   ]
  }
 ],
 "metadata": {
  "kernelspec": {
   "display_name": "Python 3 (ipykernel)",
   "language": "python",
   "name": "python3"
  },
  "language_info": {
   "codemirror_mode": {
    "name": "ipython",
    "version": 3
   },
   "file_extension": ".py",
   "mimetype": "text/x-python",
   "name": "python",
   "nbconvert_exporter": "python",
   "pygments_lexer": "ipython3",
   "version": "3.9.16"
  }
 },
 "nbformat": 4,
 "nbformat_minor": 5
}
