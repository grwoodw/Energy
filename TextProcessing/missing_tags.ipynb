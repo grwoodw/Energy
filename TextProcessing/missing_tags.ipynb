{
 "cells": [
  {
   "cell_type": "code",
   "execution_count": 1,
   "id": "27077adc",
   "metadata": {},
   "outputs": [],
   "source": [
    "import pandas as pd\n",
    "import itertools\n",
    "import torch\n",
    "from collections import Counter\n",
    "import matplotlib.pyplot as plt\n",
    "import seaborn as sns\n",
    "sns.set()\n",
    "\n",
    "def lookup_description(tag_list):\n",
    "    for tag in tag_list:\n",
    "        try:\n",
    "            print(f\"{tag}: {newcodes.loc[tag]['Description']}\")\n",
    "        except KeyError:\n",
    "            try:\n",
    "                print(f\"{tag}: {n2k.loc[tag]['Description']}\")\n",
    "            except KeyError:\n",
    "                lst = [i for i in newcodes.index if str(i).startswith(tag)]\n",
    "                if len(lst) == 1:\n",
    "                    print(f\"{lst[0]}: {newcodes.loc[lst[0]]['Description']}\")\n",
    "                elif lst:\n",
    "                    lst = [i for i in newcodes.index if str(i).startswith(tag[:-1])]\n",
    "                    if len(lst) == 1:\n",
    "                        print(f\"{lst[0]}: {newcodes.loc[lst[0]]['Description']}\")\n",
    "                    elif lst:\n",
    "                        print(lst)\n",
    "                    else:\n",
    "                        print(tag)"
   ]
  },
  {
   "cell_type": "code",
   "execution_count": 2,
   "id": "c1a1d109",
   "metadata": {},
   "outputs": [
    {
     "name": "stdout",
     "output_type": "stream",
     "text": [
      "Number of possible missing tags: 711\n"
     ]
    }
   ],
   "source": [
    "n2k = pd.read_excel('N2K_Template_2015-06-08.xls', index_col=0)\n",
    "newcodes = pd.read_excel('4_NewsCodes_20170927.xls', index_col=0)\n",
    "\n",
    "missingTags = torch.load('missingTags.pt')\n",
    "missingTags_list = list(itertools.chain.from_iterable(missingTags.values()))\n",
    "print(f\"Number of possible missing tags: {len(set(missingTags_list))}\")"
   ]
  },
  {
   "cell_type": "markdown",
   "id": "1467f8a1",
   "metadata": {},
   "source": [
    "Mismatching in the old and new selected articles are <b>not</b> caused by:\n",
    "- upper/lower-case tags\n",
    "- missing values in headlines\n",
    "- missing values in any columns\n",
    "- duplicate entries in headlines\n",
    "- duplicate entries in all columns\n",
    "- rare bugs when converting strings to lists"
   ]
  },
  {
   "cell_type": "markdown",
   "id": "cc22ad33",
   "metadata": {},
   "source": [
    "# Greedy Explanation over Monthly Observations"
   ]
  },
  {
   "cell_type": "code",
   "execution_count": 3,
   "id": "508f13e4",
   "metadata": {},
   "outputs": [
    {
     "name": "stdout",
     "output_type": "stream",
     "text": [
      "Number of mismatching months to be explaned by missing tags: 154\n",
      "Most common missing tags       : [('NSEA', 95), ('LPG', 92), ('RFOD', 85), ('ENQ', 65), ('OSTR', 51)]\n"
     ]
    }
   ],
   "source": [
    "print(f\"Number of mismatching months to be explaned by missing tags: {len(missingTags)}\")\n",
    "c = Counter(missingTags_list)\n",
    "print(f\"Most common missing tags       : {c.most_common(5)}\")"
   ]
  },
  {
   "cell_type": "code",
   "execution_count": 4,
   "id": "318b4c07",
   "metadata": {},
   "outputs": [
    {
     "name": "stdout",
     "output_type": "stream",
     "text": [
      "NSEA: North Sea Oil\n",
      "LPG1: Liquefied Petroleum Gas\n",
      "RFOD: Food Distribution & Convenience Stores (TRBC)\n",
      "RENQ: Renewable Energy Equipment & Services (TRBC)\n"
     ]
    }
   ],
   "source": [
    "lookup_description(['NSEA', 'LPG', 'RFOD', 'RENQ'])"
   ]
  },
  {
   "cell_type": "code",
   "execution_count": 5,
   "id": "7463d28b",
   "metadata": {},
   "outputs": [
    {
     "name": "stdout",
     "output_type": "stream",
     "text": [
      "59\n"
     ]
    },
    {
     "data": {
      "text/plain": [
       "[('LPG', 27), ('COAWHL', 26), ('WTESEQ', 25)]"
      ]
     },
     "execution_count": 5,
     "metadata": {},
     "output_type": "execute_result"
    }
   ],
   "source": [
    "missingTags2 = [value for value in missingTags.values() if 'NSEA' not in value]\n",
    "#missingTags2 = [value for value in missingTags.values() if 'LPG' not in value]\n",
    "print(len(missingTags2))\n",
    "Counter(list(itertools.chain.from_iterable(missingTags2))).most_common(3)"
   ]
  },
  {
   "cell_type": "code",
   "execution_count": 6,
   "id": "3e4aa0a6",
   "metadata": {},
   "outputs": [
    {
     "name": "stdout",
     "output_type": "stream",
     "text": [
      "32\n"
     ]
    },
    {
     "data": {
      "text/plain": [
       "[('COAMSU', 19), ('COAWHL', 19), ('WTESEQ', 18)]"
      ]
     },
     "execution_count": 6,
     "metadata": {},
     "output_type": "execute_result"
    }
   ],
   "source": [
    "missingTags3 = [value for value in missingTags2 if 'LPG' not in value]\n",
    "print(len(missingTags3))\n",
    "Counter(list(itertools.chain.from_iterable(missingTags3))).most_common(3)"
   ]
  },
  {
   "cell_type": "markdown",
   "id": "35e9f4ea",
   "metadata": {},
   "source": [
    "# Greedy Explanation over Monthly Observations"
   ]
  },
  {
   "cell_type": "markdown",
   "id": "35890ac8",
   "metadata": {},
   "source": [
    "greedy search over all missing <b>articles</b> rather than <b>possible missing tags</b>"
   ]
  },
  {
   "cell_type": "code",
   "execution_count": 7,
   "id": "eee15e67",
   "metadata": {
    "scrolled": false
   },
   "outputs": [
    {
     "name": "stdout",
     "output_type": "stream",
     "text": [
      "Number of articles left to be explaned: 106537\n",
      "************************************************** Iteration 1\n",
      "Percentage of articles left to be explaned: 100.00%\n",
      "Most explanatory tags from all possible missing tags: [('RFOD', 57583), ('AGA', 13272), ('CHAIR1', 10433)]\n",
      "RFOD: Food Distribution & Convenience Stores (TRBC)\n",
      "************************************************** Iteration 2\n",
      "Percentage of articles left to be explaned: 45.95%\n",
      "Most explanatory tags from all possible missing tags: [('CHAIR1', 10269), ('CFO1', 9934), ('AGA', 5839)]\n",
      "CHAIR1: Change of Chairperson\n",
      "************************************************** Iteration 3\n",
      "Percentage of articles left to be explaned: 36.31%\n",
      "Most explanatory tags from all possible missing tags: [('CFO1', 9658), ('AGA', 4997), ('PRES1', 1789)]\n",
      "CFO1: Change of CFO\n",
      "************************************************** Iteration 4\n",
      "Percentage of articles left to be explaned: 27.25%\n",
      "Most explanatory tags from all possible missing tags: [('AGA', 3101), ('PRES1', 1672), ('CRUISL', 1642)]\n",
      "************************************************** Iteration 5\n",
      "Percentage of articles left to be explaned: 24.34%\n",
      "Most explanatory tags from all possible missing tags: [('PRES1', 1455), ('EXPLN', 1017), ('CRUISL', 971)]\n",
      "PRES1: Change of President\n",
      "************************************************** Iteration 6\n",
      "Percentage of articles left to be explaned: 22.97%\n",
      "Most explanatory tags from all possible missing tags: [('EXPLN', 1013), ('CRUISL', 971), ('COM', 829)]\n",
      "************************************************** Iteration 7\n",
      "Percentage of articles left to be explaned: 22.02%\n",
      "Most explanatory tags from all possible missing tags: [('CRUISL', 968), ('COM', 733), ('FRAUD1', 617)]\n",
      "************************************************** Iteration 8\n",
      "Percentage of articles left to be explaned: 21.11%\n",
      "Most explanatory tags from all possible missing tags: [('COM', 709), ('FRAUD1', 612), ('CPROD', 506)]\n",
      "COM: Commodities Markets\n",
      "************************************************** Iteration 9\n",
      "Percentage of articles left to be explaned: 20.44%\n",
      "Most explanatory tags from all possible missing tags: [('FRAUD1', 570), ('CPROD', 485), ('DVST', 385)]\n",
      "FRAUD1: White Collar Crime / Fraud / Corporate Crime\n",
      "************************************************** Iteration 10\n",
      "Percentage of articles left to be explaned: 19.91%\n",
      "Most explanatory tags from all possible missing tags: [('CPROD', 475), ('DVST', 374), ('EXPLSV', 318)]\n",
      "CPROD: Products / Services\n",
      "************************************************** Iteration 11\n",
      "Percentage of articles left to be explaned: 19.46%\n",
      "Most explanatory tags from all possible missing tags: [('DVST', 372), ('EXPLSV', 298), ('ELEU', 262)]\n",
      "DVST: Divestitures / Spin-Offs\n",
      "************************************************** Iteration 12\n",
      "Percentage of articles left to be explaned: 19.11%\n",
      "Most explanatory tags from all possible missing tags: [('EXPLSV', 295), ('ELEU', 254), ('DDEAL', 218)]\n",
      "************************************************** Iteration 13\n",
      "Percentage of articles left to be explaned: 18.84%\n",
      "Most explanatory tags from all possible missing tags: [('ELEU', 254), ('DDEAL', 218), ('DBTR', 143)]\n",
      "ELEU: Electric Utilities (TRBC)\n",
      "************************************************** Iteration 14\n",
      "Percentage of articles left to be explaned: 18.60%\n",
      "Most explanatory tags from all possible missing tags: [('DDEAL', 215), ('HRGT', 128), ('DBTR', 124)]\n",
      "DDEAL: Directors Dealings\n",
      "************************************************** Iteration 15\n",
      "Percentage of articles left to be explaned: 18.40%\n",
      "Most explanatory tags from all possible missing tags: [('HRGT', 122), ('DBTR', 117), ('LNGRIE', 103)]\n",
      "HRGT: Human Rights / Civil Rights\n",
      "************************************************** Iteration 16\n",
      "Percentage of articles left to be explaned: 18.28%\n",
      "Most explanatory tags from all possible missing tags: [('DBTR', 116), ('LNGRIE', 103), ('DISP', 93)]\n",
      "DBTR: Corporate Debt Restructurings\n",
      "************************************************** Iteration 17\n",
      "Percentage of articles left to be explaned: 18.17%\n",
      "Most explanatory tags from all possible missing tags: [('LNGRIE', 103), ('DISP', 92), ('ENERGD', 86)]\n",
      "************************************************** Iteration 18\n",
      "Percentage of articles left to be explaned: 18.08%\n",
      "Most explanatory tags from all possible missing tags: [('DISP', 92), ('ENERGD', 86), ('ESG', 65)]\n",
      "DISP: Labor Disputes\n",
      "************************************************** Iteration 19\n",
      "Percentage of articles left to be explaned: 17.99%\n",
      "Most explanatory tags from all possible missing tags: [('ENERGD', 86), ('AIRS', 63), ('ESG', 59)]\n",
      "************************************************** Iteration 20\n",
      "Percentage of articles left to be explaned: 17.91%\n",
      "Most explanatory tags from all possible missing tags: [('AIRS', 63), ('ESG', 59), ('CHE', 58)]\n",
      "AIRS: Airline Services (TRBC)\n",
      "************************************************** Iteration 21\n",
      "Percentage of articles left to be explaned: 17.85%\n",
      "Most explanatory tags from all possible missing tags: [('ESG', 59), ('NEWR', 56), ('CHE', 50)]\n",
      "ESG: ESG\n",
      "************************************************** Iteration 22\n",
      "Percentage of articles left to be explaned: 17.80%\n",
      "Most explanatory tags from all possible missing tags: [('NEWR', 56), ('CHE', 50), ('ITEC', 45)]\n",
      "NEWR: News Announcements\n",
      "************************************************** Iteration 23\n",
      "Percentage of articles left to be explaned: 17.74%\n",
      "Most explanatory tags from all possible missing tags: [('CHE', 50), ('MIS', 45), ('ELI', 45)]\n",
      "['CHEM', 'CHIP', 'CHPT', 'CHR', 'CHS', 'CHAIR1', 'CH', 'CHISL', 'CHRI', 'CHLD', 'CHESS']\n",
      "************************************************** Iteration 24\n",
      "Percentage of articles left to be explaned: 17.70%\n",
      "Most explanatory tags from all possible missing tags: [('ITEC', 44), ('EPMICS', 44), ('INDU', 41)]\n",
      "ITEC: Information Technologies / Computer Sciences\n",
      "************************************************** Iteration 25\n",
      "Percentage of articles left to be explaned: 17.65%\n",
      "Most explanatory tags from all possible missing tags: [('EPMICS', 44), ('INDU', 41), ('MIS', 40)]\n",
      "************************************************** Iteration 26\n",
      "Percentage of articles left to be explaned: 17.61%\n",
      "Most explanatory tags from all possible missing tags: [('INDU', 41), ('MIS', 40), ('PETCLO', 40)]\n",
      "INDU: nan\n",
      "************************************************** Iteration 27\n",
      "Percentage of articles left to be explaned: 17.58%\n",
      "Most explanatory tags from all possible missing tags: [('MIS', 40), ('PETCLO', 40), ('CFIN', 39)]\n",
      "MISO1: MISO\n",
      "************************************************** Iteration 28\n",
      "Percentage of articles left to be explaned: 17.54%\n",
      "Most explanatory tags from all possible missing tags: [('PETCLO', 40), ('CFIN', 38), ('ELC', 37)]\n",
      "************************************************** Iteration 29\n",
      "Percentage of articles left to be explaned: 17.50%\n",
      "Most explanatory tags from all possible missing tags: [('CFIN', 38), ('ELC', 37), ('GDP', 37)]\n",
      "CFIN: Corporate Finance\n",
      "************************************************** Iteration 30\n",
      "Percentage of articles left to be explaned: 17.46%\n",
      "Most explanatory tags from all possible missing tags: [('ELC', 37), ('GDP', 36), ('TOUR', 32)]\n",
      "ELCO: Electrical Components & Equipment (TRBC)\n",
      "************************************************** Iteration 31\n",
      "Percentage of articles left to be explaned: 17.43%\n",
      "Most explanatory tags from all possible missing tags: [('GDP', 36), ('TOUR', 32), ('ACCI', 31)]\n",
      "GDP: Economic Output\n",
      "************************************************** Iteration 32\n",
      "Percentage of articles left to be explaned: 17.40%\n",
      "Most explanatory tags from all possible missing tags: [('TOUR', 32), ('ACCI', 31), ('CAFE', 29)]\n",
      "TOUR: Tourism / Travel\n",
      "************************************************** Iteration 33\n",
      "Percentage of articles left to be explaned: 17.37%\n",
      "Most explanatory tags from all possible missing tags: [('ACCI', 31), ('CAFE', 29), ('WBNK', 29)]\n",
      "ACCI: Accounting Issues\n",
      "************************************************** Iteration 34\n",
      "Percentage of articles left to be explaned: 17.34%\n",
      "Most explanatory tags from all possible missing tags: [('CAFE', 29), ('WBNK', 29), ('TRF', 28)]\n",
      "CAFE: Restaurants (TRBC)\n",
      "************************************************** Iteration 35\n",
      "Percentage of articles left to be explaned: 17.31%\n",
      "Most explanatory tags from all possible missing tags: [('WBNK', 29), ('TRF', 28), ('ALLCE', 28)]\n",
      "WBNK: World Bank\n",
      "************************************************** Iteration 36\n",
      "Percentage of articles left to be explaned: 17.28%\n",
      "Most explanatory tags from all possible missing tags: [('TRF', 28), ('ALLCE', 28), ('BGDS', 25)]\n",
      "TRF: Tariffs\n",
      "************************************************** Iteration 37\n",
      "Percentage of articles left to be explaned: 17.26%\n",
      "Most explanatory tags from all possible missing tags: [('ALLCE', 28), ('BGDS', 25), ('NUCL', 23)]\n",
      "ALLCE: Strategic Combinations\n",
      "************************************************** Iteration 38\n",
      "Percentage of articles left to be explaned: 17.23%\n",
      "Most explanatory tags from all possible missing tags: [('BGDS', 25), ('NUCL', 23), ('ELI', 22)]\n",
      "BGDS: Business Support Supplies (TRBC)\n",
      "************************************************** Iteration 39\n",
      "Percentage of articles left to be explaned: 17.21%\n",
      "Most explanatory tags from all possible missing tags: [('NUCL', 23), ('ELI', 22), ('CCRE', 21)]\n",
      "NUCL: Nuclear Armaments / Nuclear Proliferation\n",
      "************************************************** Iteration 40\n",
      "Percentage of articles left to be explaned: 17.18%\n",
      "Most explanatory tags from all possible missing tags: [('ELI', 22), ('CCRE', 21), ('NMKR', 20)]\n"
     ]
    }
   ],
   "source": [
    "missing_tags_subjects_list = torch.load('missing_tags_subjects_list.pt')\n",
    "tot = len(missing_tags_subjects_list)\n",
    "print(f\"Number of articles left to be explaned: {tot}\")\n",
    "\n",
    "n_iter = 40\n",
    "path = [0]*n_iter\n",
    "perc_list = []\n",
    "\n",
    "for i, pathIndex in zip(range(n_iter), path):\n",
    "    print(f\"{''.join(['*']*50)} Iteration {i+1}\")\n",
    "    perc = len(missing_tags_subjects_list)/tot * 100\n",
    "    perc_list.append(perc)\n",
    "    print(f\"Percentage of articles left to be explaned: {perc:.2f}%\")\n",
    "    c = Counter(list(itertools.chain.from_iterable(missing_tags_subjects_list)))\n",
    "    #print(f\"Most common missing subjects: {c.most_common(3)}\")\n",
    "    lst = [(key, c.get(key)) for key in set(missingTags_list) if c.get(key)]\n",
    "    lst = sorted(lst, key=lambda x: x[1], reverse=True)\n",
    "    print(f\"Most explanatory tags from all possible missing tags: {lst[:3]}\")\n",
    "    tag = lst[pathIndex][0]\n",
    "    lookup_description([tag])\n",
    "    missing_tags_subjects_list = [sublist for sublist in missing_tags_subjects_list if tag not in sublist]"
   ]
  },
  {
   "cell_type": "code",
   "execution_count": 8,
   "id": "edcfcae7",
   "metadata": {},
   "outputs": [
    {
     "data": {
      "image/png": "[encoded data removed]",
      "text/plain": [
       "<Figure size 900x600 with 1 Axes>"
      ]
     },
     "metadata": {},
     "output_type": "display_data"
    }
   ],
   "source": [
    "fig, ax = plt.subplots(figsize=(9,6))\n",
    "ax.plot(perc_list)\n",
    "ax.set_xlabel('Number of missing tags')\n",
    "ax.set_ylabel('Percentage unexplained');"
   ]
  }
 ],
 "metadata": {
  "kernelspec": {
   "display_name": "Python 3 (ipykernel)",
   "language": "python",
   "name": "python3"
  },
  "language_info": {
   "codemirror_mode": {
    "name": "ipython",
    "version": 3
   },
   "file_extension": ".py",
   "mimetype": "text/x-python",
   "name": "python",
   "nbconvert_exporter": "python",
   "pygments_lexer": "ipython3",
   "version": "3.9.16"
  }
 },
 "nbformat": 4,
 "nbformat_minor": 5
}
