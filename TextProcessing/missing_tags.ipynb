{
 "cells": [
  {
   "cell_type": "code",
   "execution_count": 1,
   "id": "27077adc",
   "metadata": {},
   "outputs": [],
   "source": [
    "import pandas as pd\n",
    "import itertools\n",
    "import torch\n",
    "from collections import Counter\n",
    "import matplotlib.pyplot as plt\n",
    "import seaborn as sns\n",
    "sns.set()\n",
    "from tqdm import tqdm\n",
    "\n",
    "def lookup_description(tag_list):\n",
    "    for tag in tag_list:\n",
    "        try:\n",
    "            print(f\"{tag}: {newcodes.loc[tag]['Description']}\")\n",
    "        except KeyError:\n",
    "            try:\n",
    "                print(f\"{tag}: {n2k.loc[tag]['Description']}\")\n",
    "            except KeyError:\n",
    "                lst = [i for i in newcodes.index if str(i).startswith(tag)]\n",
    "                if len(lst) == 1:\n",
    "                    print(f\"{lst[0]}: {newcodes.loc[lst[0]]['Description']}\")\n",
    "                elif lst:\n",
    "                    lst = [i for i in newcodes.index if str(i).startswith(tag[:-1])]\n",
    "                    if len(lst) == 1:\n",
    "                        print(f\"{lst[0]}: {newcodes.loc[lst[0]]['Description']}\")\n",
    "                    elif lst:\n",
    "                        print(lst)\n",
    "                    else:\n",
    "                        print(tag)"
   ]
  },
  {
   "cell_type": "code",
   "execution_count": 2,
   "id": "8c3f1b43",
   "metadata": {},
   "outputs": [
    {
     "name": "stdout",
     "output_type": "stream",
     "text": [
      "Number of possible missing tags: 711\n"
     ]
    }
   ],
   "source": [
    "n2k = pd.read_excel('N2K_Template_2015-06-08.xls', index_col=0)\n",
    "newcodes = pd.read_excel('4_NewsCodes_20170927.xls', index_col=0)\n",
    "\n",
    "missingTags = torch.load('missingTags.pt')\n",
    "missingTags_list = list(itertools.chain.from_iterable(missingTags.values()))\n",
    "print(f\"Number of possible missing tags: {len(set(missingTags_list))}\")"
   ]
  },
  {
   "cell_type": "markdown",
   "id": "1467f8a1",
   "metadata": {},
   "source": [
    "Mismatching in the old and new selected articles are <b>not</b> caused by:\n",
    "- upper/lower-case tags\n",
    "- missing values in headlines\n",
    "- missing values in any columns\n",
    "- duplicate entries in headlines\n",
    "- duplicate entries in all columns\n",
    "- rare bugs when converting strings to lists"
   ]
  },
  {
   "cell_type": "markdown",
   "id": "7d25b37a",
   "metadata": {},
   "source": [
    "# Greedy Explanation over Monthly Observations"
   ]
  },
  {
   "cell_type": "code",
   "execution_count": 3,
   "id": "36faf1dc",
   "metadata": {},
   "outputs": [
    {
     "name": "stdout",
     "output_type": "stream",
     "text": [
      "Number of mismatching months to be explaned by missing tags: 154\n",
      "Most common missing tags       : [('NSEA', 95), ('LPG', 92), ('RFOD', 85), ('ENQ', 65), ('OSTR', 51)]\n"
     ]
    }
   ],
   "source": [
    "print(f\"Number of mismatching months to be explaned by missing tags: {len(missingTags)}\")\n",
    "c = Counter(missingTags_list)\n",
    "print(f\"Most common missing tags       : {c.most_common(5)}\")"
   ]
  },
  {
   "cell_type": "code",
   "execution_count": 4,
   "id": "54b70546",
   "metadata": {},
   "outputs": [
    {
     "name": "stdout",
     "output_type": "stream",
     "text": [
      "NSEA: North Sea Oil\n",
      "LPG1: Liquefied Petroleum Gas\n",
      "RFOD: Food Distribution & Convenience Stores (TRBC)\n",
      "RENQ: Renewable Energy Equipment & Services (TRBC)\n"
     ]
    }
   ],
   "source": [
    "lookup_description(['NSEA', 'LPG', 'RFOD', 'RENQ'])"
   ]
  },
  {
   "cell_type": "code",
   "execution_count": 5,
   "id": "7463d28b",
   "metadata": {},
   "outputs": [
    {
     "name": "stdout",
     "output_type": "stream",
     "text": [
      "59\n"
     ]
    },
    {
     "data": {
      "text/plain": [
       "[('LPG', 27), ('COAWHL', 26), ('HYDPEQ', 25)]"
      ]
     },
     "execution_count": 5,
     "metadata": {},
     "output_type": "execute_result"
    }
   ],
   "source": [
    "missingTags2 = [value for value in missingTags.values() if 'NSEA' not in value]\n",
    "#missingTags2 = [value for value in missingTags.values() if 'LPG' not in value]\n",
    "print(len(missingTags2))\n",
    "Counter(list(itertools.chain.from_iterable(missingTags2))).most_common(3)"
   ]
  },
  {
   "cell_type": "code",
   "execution_count": 6,
   "id": "3e4aa0a6",
   "metadata": {},
   "outputs": [
    {
     "name": "stdout",
     "output_type": "stream",
     "text": [
      "32\n"
     ]
    },
    {
     "data": {
      "text/plain": [
       "[('COAWHL', 19), ('COAMSU', 19), ('HYDPEQ', 18)]"
      ]
     },
     "execution_count": 6,
     "metadata": {},
     "output_type": "execute_result"
    }
   ],
   "source": [
    "missingTags3 = [value for value in missingTags2 if 'LPG' not in value]\n",
    "print(len(missingTags3))\n",
    "Counter(list(itertools.chain.from_iterable(missingTags3))).most_common(3)"
   ]
  },
  {
   "cell_type": "markdown",
   "id": "b6a0dce5",
   "metadata": {},
   "source": [
    "# Greedy Explanation over Monthly Observations"
   ]
  },
  {
   "cell_type": "markdown",
   "id": "35890ac8",
   "metadata": {},
   "source": [
    "greedy search over all missing <b>articles</b> rather than <b>possible missing tags</b>"
   ]
  },
  {
   "cell_type": "code",
   "execution_count": 7,
   "id": "b342c3e4",
   "metadata": {
    "scrolled": false
   },
   "outputs": [
    {
     "name": "stdout",
     "output_type": "stream",
     "text": [
      "Number of articles left to be explaned: 106537\n"
     ]
    },
    {
     "name": "stderr",
     "output_type": "stream",
     "text": [
      "0it [00:00, ?it/s]"
     ]
    },
    {
     "name": "stdout",
     "output_type": "stream",
     "text": [
      "************************************************** Iteration 1"
     ]
    },
    {
     "name": "stderr",
     "output_type": "stream",
     "text": [
      "2it [00:00,  6.00it/s]"
     ]
    },
    {
     "name": "stdout",
     "output_type": "stream",
     "text": [
      "\n",
      "Percentage of articles left to be explaned: 100.00%\n",
      "Most explanatory tags from all possible missing tags: [('RFOD', 57583), ('AGA', 13272), ('CHAIR1', 10433)]\n",
      "RFOD: Food Distribution & Convenience Stores (TRBC)\n",
      "************************************************** Iteration 2\n",
      "Percentage of articles left to be explaned: 45.95%\n",
      "Most explanatory tags from all possible missing tags: [('CHAIR1', 10269), ('CFO1', 9934), ('AGA', 5839)]\n",
      "CHAIR1: Change of Chairperson\n"
     ]
    },
    {
     "name": "stderr",
     "output_type": "stream",
     "text": [
      "4it [00:00,  8.95it/s]"
     ]
    },
    {
     "name": "stdout",
     "output_type": "stream",
     "text": [
      "************************************************** Iteration 3\n",
      "Percentage of articles left to be explaned: 36.31%\n",
      "Most explanatory tags from all possible missing tags: [('CFO1', 9658), ('AGA', 4997), ('PRES1', 1789)]\n",
      "CFO1: Change of CFO\n",
      "************************************************** Iteration 4\n",
      "Percentage of articles left to be explaned: 27.25%\n",
      "Most explanatory tags from all possible missing tags: [('AGA', 3101), ('PRES1', 1672), ('CRUISL', 1642)]\n",
      "************************************************** Iteration 5\n",
      "Percentage of articles left to be explaned: 24.34%\n",
      "Most explanatory tags from all possible missing tags: [('PRES1', 1455), ('EXPLN', 1017), ('CRUISL', 971)]\n",
      "PRES1: Change of President\n",
      "************************************************** Iteration 6\n",
      "Percentage of articles left to be explaned: 22.97%\n",
      "Most explanatory tags from all possible missing tags: [('EXPLN', 1013), ('CRUISL', 971), ('COM', 829)]\n"
     ]
    },
    {
     "name": "stderr",
     "output_type": "stream",
     "text": [
      "10it [00:00, 15.31it/s]"
     ]
    },
    {
     "name": "stdout",
     "output_type": "stream",
     "text": [
      "************************************************** Iteration 7\n",
      "Percentage of articles left to be explaned: 22.02%\n",
      "Most explanatory tags from all possible missing tags: [('CRUISL', 968), ('COM', 733), ('FRAUD1', 617)]\n",
      "************************************************** Iteration 8\n",
      "Percentage of articles left to be explaned: 21.11%\n",
      "Most explanatory tags from all possible missing tags: [('COM', 709), ('FRAUD1', 612), ('CPROD', 506)]\n",
      "COM: Commodities Markets\n",
      "************************************************** Iteration 9\n",
      "Percentage of articles left to be explaned: 20.44%\n",
      "Most explanatory tags from all possible missing tags: [('FRAUD1', 570), ('CPROD', 485), ('DVST', 385)]\n",
      "FRAUD1: White Collar Crime / Fraud / Corporate Crime\n",
      "************************************************** Iteration 10\n",
      "Percentage of articles left to be explaned: 19.91%\n",
      "Most explanatory tags from all possible missing tags: [('CPROD', 475), ('DVST', 374), ('EXPLSV', 318)]\n",
      "CPROD: Products / Services\n"
     ]
    },
    {
     "name": "stderr",
     "output_type": "stream",
     "text": [
      "150it [00:06, 22.84it/s]\n"
     ]
    }
   ],
   "source": [
    "missing_tags_subjects_list = torch.load('missing_tags_subjects_list.pt')\n",
    "tot = len(missing_tags_subjects_list)\n",
    "print(f\"Number of articles left to be explaned: {tot}\")\n",
    "\n",
    "n_iter = 150\n",
    "path = [0]*n_iter\n",
    "perc_list = []\n",
    "\n",
    "for i, pathIndex in tqdm(zip(range(n_iter), path)):\n",
    "    \n",
    "    perc = len(missing_tags_subjects_list)/tot * 100\n",
    "    perc_list.append(perc)\n",
    "\n",
    "    c = Counter(list(itertools.chain.from_iterable(missing_tags_subjects_list)))\n",
    "    #print(f\"Most common missing subjects: {c.most_common(3)}\")\n",
    "    lst = [(key, c.get(key)) for key in set(missingTags_list) if c.get(key)]\n",
    "    lst = sorted(lst, key=lambda x: x[1], reverse=True)\n",
    "    tag = lst[pathIndex][0]\n",
    "    \n",
    "    if i < 10:\n",
    "        print(f\"{''.join(['*']*50)} Iteration {i+1}\")\n",
    "        print(f\"Percentage of articles left to be explaned: {perc:.2f}%\")\n",
    "        print(f\"Most explanatory tags from all possible missing tags: {lst[:3]}\")\n",
    "        lookup_description([tag])\n",
    "        \n",
    "    missing_tags_subjects_list = [sublist for sublist in missing_tags_subjects_list if tag not in sublist]"
   ]
  },
  {
   "cell_type": "code",
   "execution_count": 8,
   "id": "79a44c68",
   "metadata": {},
   "outputs": [
    {
     "data": {
      "image/png": "[encoded data removed]",
      "text/plain": [
       "<Figure size 900x600 with 1 Axes>"
      ]
     },
     "metadata": {},
     "output_type": "display_data"
    }
   ],
   "source": [
    "fig, ax = plt.subplots(figsize=(9,6))\n",
    "ax.plot(perc_list)\n",
    "ax.set_xlabel('Number of missing tags')\n",
    "ax.set_ylabel('Percentage unexplained');"
   ]
  }
 ],
 "metadata": {
  "kernelspec": {
   "display_name": "Python 3 (ipykernel)",
   "language": "python",
   "name": "python3"
  },
  "language_info": {
   "codemirror_mode": {
    "name": "ipython",
    "version": 3
   },
   "file_extension": ".py",
   "mimetype": "text/x-python",
   "name": "python",
   "nbconvert_exporter": "python",
   "pygments_lexer": "ipython3",
   "version": "3.9.16"
  }
 },
 "nbformat": 4,
 "nbformat_minor": 5
}
