{
 "cells": [
  {
   "cell_type": "code",
   "execution_count": 1,
   "id": "30de1742",
   "metadata": {},
   "outputs": [],
   "source": [
    "import pandas as pd\n",
    "\n",
    "'''\n",
    "old : topic allocation results in 2020-11-16\n",
    "new : oil info in 2023\n",
    "raw : raw news in 2023, including that not related to oil\n",
    "lengths are mismatched since July 2007\n",
    "'''\n",
    "\n",
    "# 200801\n",
    "old = pd.read_csv('old.csv')\n",
    "new = pd.read_csv('new.csv')\n",
    "raw = pd.read_csv('new_raw.csv')\n",
    "assert len(old) != len(new)\n",
    "\n",
    "# 200701\n",
    "old07 = pd.read_csv('old07.csv')\n",
    "new07 = pd.read_csv('new07.csv')\n",
    "raw07 = pd.read_csv('new07_raw.csv')\n",
    "assert len(old07) == len(new07)\n",
    "\n",
    "# energy tag list\n",
    "tag = pd.read_csv('energytag.csv')['energytag'].values\n",
    "tag = ['N2:'+i for i in tag]"
   ]
  },
  {
   "cell_type": "code",
   "execution_count": 2,
   "id": "490fba40",
   "metadata": {},
   "outputs": [],
   "source": [
    "def get_diff_tags(old, new):\n",
    "    diffHeadlines = set(old['headline']).difference(new['headline'])\n",
    "    if diffHeadlines != set():\n",
    "        diffIdx = raw[raw['headline'].isin(diffHeadlines)].index\n",
    "        diffSubjects = raw['subject'].iloc[diffIdx]\n",
    "        tagLists = [list(set(eval(diffSubject)).difference(tag)) for diffSubject in diffSubjects]\n",
    "        return [item for sublist in tagLists for item in sublist if item.startswith('N2:')]\n",
    "        \n",
    "    else:\n",
    "        print('Matching headlines')"
   ]
  },
  {
   "cell_type": "code",
   "execution_count": 3,
   "id": "54934908",
   "metadata": {},
   "outputs": [
    {
     "data": {
      "text/plain": [
       "[('N2:LEN', 473),\n",
       " ('N2:RTRS', 471),\n",
       " ('N2:RET', 442),\n",
       " ('N2:RFOD', 432),\n",
       " ('N2:NCYC', 431),\n",
       " ('N2:FDRT', 422),\n",
       " ('N2:EUROPE', 378),\n",
       " ('N2:WEU', 325),\n",
       " ('N2:CYCS', 266),\n",
       " ('N2:SHOP', 210),\n",
       " ('N2:GB', 174),\n",
       " ('N2:FR', 151),\n",
       " ('N2:ASIA', 150),\n",
       " ('N2:FINS', 145),\n",
       " ('N2:DEPT', 142)]"
      ]
     },
     "execution_count": 3,
     "metadata": {},
     "output_type": "execute_result"
    }
   ],
   "source": [
    "# 200801\n",
    "from collections import Counter\n",
    "diffTags = get_diff_tags(old, new)\n",
    "Counter(diffTags).most_common(15)"
   ]
  },
  {
   "cell_type": "code",
   "execution_count": 4,
   "id": "1c4259ea",
   "metadata": {},
   "outputs": [
    {
     "name": "stdout",
     "output_type": "stream",
     "text": [
      "Matching headlines\n"
     ]
    }
   ],
   "source": [
    "# 200701\n",
    "get_diff_tags(old07, new07)"
   ]
  },
  {
   "cell_type": "code",
   "execution_count": null,
   "id": "eb1f3e47",
   "metadata": {},
   "outputs": [],
   "source": []
  },
  {
   "cell_type": "code",
   "execution_count": 14,
   "id": "75203cce",
   "metadata": {},
   "outputs": [
    {
     "data": {
      "text/html": [
       "<div>\n",
       "<style scoped>\n",
       "    .dataframe tbody tr th:only-of-type {\n",
       "        vertical-align: middle;\n",
       "    }\n",
       "\n",
       "    .dataframe tbody tr th {\n",
       "        vertical-align: top;\n",
       "    }\n",
       "\n",
       "    .dataframe thead th {\n",
       "        text-align: right;\n",
       "    }\n",
       "</style>\n",
       "<table border=\"1\" class=\"dataframe\">\n",
       "  <thead>\n",
       "    <tr style=\"text-align: right;\">\n",
       "      <th></th>\n",
       "      <th>Topic1</th>\n",
       "      <th>Topic2</th>\n",
       "      <th>Topic3</th>\n",
       "      <th>Topic4</th>\n",
       "      <th>Topic5</th>\n",
       "      <th>Topic6</th>\n",
       "      <th>Topic7</th>\n",
       "    </tr>\n",
       "    <tr>\n",
       "      <th>Unnamed: 0</th>\n",
       "      <th></th>\n",
       "      <th></th>\n",
       "      <th></th>\n",
       "      <th></th>\n",
       "      <th></th>\n",
       "      <th></th>\n",
       "      <th></th>\n",
       "    </tr>\n",
       "  </thead>\n",
       "  <tbody>\n",
       "    <tr>\n",
       "      <th>199601</th>\n",
       "      <td>0.055481</td>\n",
       "      <td>0.463931</td>\n",
       "      <td>0.006580</td>\n",
       "      <td>0.278519</td>\n",
       "      <td>0.018475</td>\n",
       "      <td>0.020140</td>\n",
       "      <td>0.028515</td>\n",
       "    </tr>\n",
       "    <tr>\n",
       "      <th>199602</th>\n",
       "      <td>0.043358</td>\n",
       "      <td>0.449320</td>\n",
       "      <td>0.010450</td>\n",
       "      <td>0.260126</td>\n",
       "      <td>0.021898</td>\n",
       "      <td>0.019990</td>\n",
       "      <td>0.031349</td>\n",
       "    </tr>\n",
       "    <tr>\n",
       "      <th>199603</th>\n",
       "      <td>0.055754</td>\n",
       "      <td>0.437086</td>\n",
       "      <td>0.005410</td>\n",
       "      <td>0.248228</td>\n",
       "      <td>0.019173</td>\n",
       "      <td>0.034771</td>\n",
       "      <td>0.028809</td>\n",
       "    </tr>\n",
       "    <tr>\n",
       "      <th>199604</th>\n",
       "      <td>0.062748</td>\n",
       "      <td>0.456380</td>\n",
       "      <td>0.005169</td>\n",
       "      <td>0.253286</td>\n",
       "      <td>0.012405</td>\n",
       "      <td>0.030125</td>\n",
       "      <td>0.022621</td>\n",
       "    </tr>\n",
       "    <tr>\n",
       "      <th>199605</th>\n",
       "      <td>0.064205</td>\n",
       "      <td>0.484560</td>\n",
       "      <td>0.009099</td>\n",
       "      <td>0.244806</td>\n",
       "      <td>0.015935</td>\n",
       "      <td>0.034849</td>\n",
       "      <td>0.029561</td>\n",
       "    </tr>\n",
       "    <tr>\n",
       "      <th>...</th>\n",
       "      <td>...</td>\n",
       "      <td>...</td>\n",
       "      <td>...</td>\n",
       "      <td>...</td>\n",
       "      <td>...</td>\n",
       "      <td>...</td>\n",
       "      <td>...</td>\n",
       "    </tr>\n",
       "    <tr>\n",
       "      <th>202210</th>\n",
       "      <td>0.059923</td>\n",
       "      <td>0.164458</td>\n",
       "      <td>0.033050</td>\n",
       "      <td>0.490684</td>\n",
       "      <td>0.051444</td>\n",
       "      <td>0.007318</td>\n",
       "      <td>0.031917</td>\n",
       "    </tr>\n",
       "    <tr>\n",
       "      <th>202211</th>\n",
       "      <td>0.057836</td>\n",
       "      <td>0.160821</td>\n",
       "      <td>0.051484</td>\n",
       "      <td>0.484127</td>\n",
       "      <td>0.051687</td>\n",
       "      <td>0.007425</td>\n",
       "      <td>0.029745</td>\n",
       "    </tr>\n",
       "    <tr>\n",
       "      <th>202212</th>\n",
       "      <td>0.064998</td>\n",
       "      <td>0.178359</td>\n",
       "      <td>0.038296</td>\n",
       "      <td>0.541756</td>\n",
       "      <td>0.056285</td>\n",
       "      <td>0.007766</td>\n",
       "      <td>0.027191</td>\n",
       "    </tr>\n",
       "    <tr>\n",
       "      <th>202301</th>\n",
       "      <td>0.065652</td>\n",
       "      <td>0.175780</td>\n",
       "      <td>0.039384</td>\n",
       "      <td>0.531714</td>\n",
       "      <td>0.056205</td>\n",
       "      <td>0.010371</td>\n",
       "      <td>0.034413</td>\n",
       "    </tr>\n",
       "    <tr>\n",
       "      <th>202302</th>\n",
       "      <td>0.069452</td>\n",
       "      <td>0.164978</td>\n",
       "      <td>0.036774</td>\n",
       "      <td>0.525162</td>\n",
       "      <td>0.054890</td>\n",
       "      <td>0.010089</td>\n",
       "      <td>0.032993</td>\n",
       "    </tr>\n",
       "  </tbody>\n",
       "</table>\n",
       "<p>326 rows × 7 columns</p>\n",
       "</div>"
      ],
      "text/plain": [
       "              Topic1    Topic2    Topic3    Topic4    Topic5    Topic6  \\\n",
       "Unnamed: 0                                                               \n",
       "199601      0.055481  0.463931  0.006580  0.278519  0.018475  0.020140   \n",
       "199602      0.043358  0.449320  0.010450  0.260126  0.021898  0.019990   \n",
       "199603      0.055754  0.437086  0.005410  0.248228  0.019173  0.034771   \n",
       "199604      0.062748  0.456380  0.005169  0.253286  0.012405  0.030125   \n",
       "199605      0.064205  0.484560  0.009099  0.244806  0.015935  0.034849   \n",
       "...              ...       ...       ...       ...       ...       ...   \n",
       "202210      0.059923  0.164458  0.033050  0.490684  0.051444  0.007318   \n",
       "202211      0.057836  0.160821  0.051484  0.484127  0.051687  0.007425   \n",
       "202212      0.064998  0.178359  0.038296  0.541756  0.056285  0.007766   \n",
       "202301      0.065652  0.175780  0.039384  0.531714  0.056205  0.010371   \n",
       "202302      0.069452  0.164978  0.036774  0.525162  0.054890  0.010089   \n",
       "\n",
       "              Topic7  \n",
       "Unnamed: 0            \n",
       "199601      0.028515  \n",
       "199602      0.031349  \n",
       "199603      0.028809  \n",
       "199604      0.022621  \n",
       "199605      0.029561  \n",
       "...              ...  \n",
       "202210      0.031917  \n",
       "202211      0.029745  \n",
       "202212      0.027191  \n",
       "202301      0.034413  \n",
       "202302      0.032993  \n",
       "\n",
       "[326 rows x 7 columns]"
      ]
     },
     "execution_count": 14,
     "metadata": {},
     "output_type": "execute_result"
    }
   ],
   "source": [
    "df = pd.read_csv('meanTopic.csv')\n",
    "df.set_index('Unnamed: 0', inplace=True)\n",
    "df"
   ]
  },
  {
   "cell_type": "code",
   "execution_count": 20,
   "id": "dcc9367e",
   "metadata": {},
   "outputs": [
    {
     "data": {
      "image/png": "[encoded data removed]",
      "text/plain": [
       "<Figure size 648x864 with 2 Axes>"
      ]
     },
     "metadata": {
      "needs_background": "light"
     },
     "output_type": "display_data"
    }
   ],
   "source": [
    "import matplotlib.pyplot as plt\n",
    "import seaborn as sns\n",
    "fig, ax = plt.subplots(figsize=(9,12))\n",
    "sns.heatmap(df, cmap='Greens', ax=ax);"
   ]
  },
  {
   "cell_type": "code",
   "execution_count": 21,
   "id": "9bf7454b",
   "metadata": {},
   "outputs": [],
   "source": [
    "words = pd.read_csv('clustering_C.csv')"
   ]
  },
  {
   "cell_type": "code",
   "execution_count": 25,
   "id": "cb8cffb0",
   "metadata": {},
   "outputs": [
    {
     "data": {
      "text/plain": [
       "array(['oil', 'barrel', 'brent', 'crude.oil', 'refin', 'opec', 'heat',\n",
       "       'petroleum', 'diesel', 'barg', 'ipe', 'distil', 'sulphur',\n",
       "       'gallon', 'tanker', 'eia', 'nwe', 'ara', 'energi.inform.administr',\n",
       "       'bunker', 'api', 'usg', 'padd', 'cartel', 'unlead', 'crack.spread',\n",
       "       'light.crude', 'middl.distil', 'crude.import',\n",
       "       'american.petroleum.institut', 'sweet.crude', 'iea',\n",
       "       'intern.energi.agenc', 'embargo', 'depart.energi', 'straight.run',\n",
       "       'spr', 'doe', 'intern.petroleum.exchang', 'reformul.gasolin',\n",
       "       'strateg.petroleum.reserv', 'viscos', 'spare.capac',\n",
       "       'amsterdam.rotterdam.antwerp', 'aframax', 'petroleo.de.venezuela',\n",
       "       'float.storag', 'product.quota', 'util.rate', 'paraffin',\n",
       "       'residu.fuel.oil', 'hormuz', 'light.end', 'arabian.light',\n",
       "       'charter.rate', 'worldscal', 'persian.gulf', 'arab.oil.embargo',\n",
       "       'high.densiti', 'petrodollar', 'equilibrium', 'centistok',\n",
       "       'water.treatment', 'gross.refin.margin', 'ballast', 'ulcc',\n",
       "       'demurrag', 'world.energi.outlook', 'forward.demand', 'slug',\n",
       "       'bonni.crude', 'brass.river.crude', 'crush.spread'], dtype=object)"
      ]
     },
     "execution_count": 25,
     "metadata": {},
     "output_type": "execute_result"
    }
   ],
   "source": [
    "# Topic 2\n",
    "words[words['Topic']==2]['word'].values"
   ]
  },
  {
   "cell_type": "code",
   "execution_count": 27,
   "id": "2f69292e",
   "metadata": {},
   "outputs": [
    {
     "data": {
      "text/plain": [
       "array(['gas', 'energi', 'coal', 'nuclear', 'electr', 'outag', 'generat',\n",
       "       'equiti', 'mine', 'lead', 'lng', 'addit', 'reactor', 'renew',\n",
       "       'solar', 'case', 'miner', 'grid', 'hydro', 'power.generat',\n",
       "       'henri.hub', 'farm', 'enron', 'conserv', 'core',\n",
       "       'liquefi.natur.gas', 'ocean', 'resid', 'uranium', 'turbin',\n",
       "       'therm', 'steam', 'transco', 'coke', 'ferc', 'balanc.volum',\n",
       "       'atmospher', 'meter', 'abandon', 'blow', 'degre.day', 'transform',\n",
       "       'interrupt', 'lignit', 'combin.cycl', 'zeebrugg', 'smelter',\n",
       "       'heat.degre.day', 'geotherm', 'peak.demand', 'enrich.uranium',\n",
       "       'anglo.american', 'radioact', 'cool.degre.day', 'compress',\n",
       "       'ofgem', 'cng', 'liquefact', 'utilis.rate', 'plutonium',\n",
       "       'independ.power.produc', 'american.gas.associ', 'municip.util',\n",
       "       'cogener', 'psc', 'anthracit', 'tennesse.valley.author',\n",
       "       'calorif.valu', 'coolant', 'compress.natur.gas', 'fusion',\n",
       "       'liquid.natur.gas', 'peak.load', 'flue', 'base.load',\n",
       "       'high.enrich', 'emul', 'nation.balanc.point', 'load.factor',\n",
       "       'vanadium', 'brownout', 'heavi.water', 'emerg.shutdown', 'cathod',\n",
       "       'environment.impact.studi', 'anod', 'spark.spread', 'dekatherm',\n",
       "       'vortex', 'synga', 'capac.margin', 'region.electr.compani',\n",
       "       'fast.breeder.reactor', 'thorium', 'deplet.uranium',\n",
       "       'bonnevill.power.author'], dtype=object)"
      ]
     },
     "execution_count": 27,
     "metadata": {},
     "output_type": "execute_result"
    }
   ],
   "source": [
    "# Topic 4\n",
    "words[words['Topic']==4]['word'].values"
   ]
  }
 ],
 "metadata": {
  "kernelspec": {
   "display_name": "Python 3 (ipykernel)",
   "language": "python",
   "name": "python3"
  },
  "language_info": {
   "codemirror_mode": {
    "name": "ipython",
    "version": 3
   },
   "file_extension": ".py",
   "mimetype": "text/x-python",
   "name": "python",
   "nbconvert_exporter": "python",
   "pygments_lexer": "ipython3",
   "version": "3.9.12"
  }
 },
 "nbformat": 4,
 "nbformat_minor": 5
}
